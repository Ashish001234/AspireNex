{
 "cells": [
  {
   "cell_type": "code",
   "execution_count": 1,
   "id": "0c9bbc8e",
   "metadata": {},
   "outputs": [],
   "source": [
    "#Importing necessary libraries\n",
    "import pandas as pd\n",
    "import numpy as np\n",
    "from sklearn.model_selection import train_test_split\n",
    "from sklearn.preprocessing import LabelEncoder"
   ]
  },
  {
   "cell_type": "code",
   "execution_count": 2,
   "id": "bf6ad9ad",
   "metadata": {},
   "outputs": [],
   "source": [
    "train_data = pd.read_csv('C:\\\\Users\\\\ashis\\\\Downloads\\\\AspireNex\\\\Task-1 MOVIE GENRE CLASSIFICATION\\\\Genre Classification Dataset\\\\train_data.txt', delimiter=':::', header=None, engine='python')\n",
    "test_data = pd.read_csv('C:\\\\Users\\\\ashis\\\\Downloads\\\\AspireNex\\\\Task-1 MOVIE GENRE CLASSIFICATION\\\\Genre Classification Dataset\\\\test_data.txt', delimiter=':::', header=None, engine='python')\n",
    "\n",
    "# Assign column names\n",
    "train_data.columns = ['ID', 'TITLE', 'GENRE', 'DESCRIPTION']\n",
    "test_data.columns = ['ID', 'TITLE', 'DESCRIPTION']"
   ]
  },
  {
   "cell_type": "code",
   "execution_count": 3,
   "id": "f8962b75",
   "metadata": {},
   "outputs": [],
   "source": [
    "label_encoder = LabelEncoder()\n",
    "train_data['GENRE'] = label_encoder.fit_transform(train_data['GENRE'])"
   ]
  },
  {
   "cell_type": "code",
   "execution_count": 4,
   "id": "f5b97d6c",
   "metadata": {},
   "outputs": [
    {
     "data": {
      "text/html": [
       "<div>\n",
       "<style scoped>\n",
       "    .dataframe tbody tr th:only-of-type {\n",
       "        vertical-align: middle;\n",
       "    }\n",
       "\n",
       "    .dataframe tbody tr th {\n",
       "        vertical-align: top;\n",
       "    }\n",
       "\n",
       "    .dataframe thead th {\n",
       "        text-align: right;\n",
       "    }\n",
       "</style>\n",
       "<table border=\"1\" class=\"dataframe\">\n",
       "  <thead>\n",
       "    <tr style=\"text-align: right;\">\n",
       "      <th></th>\n",
       "      <th>ID</th>\n",
       "      <th>TITLE</th>\n",
       "      <th>GENRE</th>\n",
       "      <th>DESCRIPTION</th>\n",
       "    </tr>\n",
       "  </thead>\n",
       "  <tbody>\n",
       "    <tr>\n",
       "      <th>0</th>\n",
       "      <td>1</td>\n",
       "      <td>Oscar et la dame rose (2009)</td>\n",
       "      <td>8</td>\n",
       "      <td>Listening in to a conversation between his do...</td>\n",
       "    </tr>\n",
       "    <tr>\n",
       "      <th>1</th>\n",
       "      <td>2</td>\n",
       "      <td>Cupid (1997)</td>\n",
       "      <td>24</td>\n",
       "      <td>A brother and sister with a past incestuous r...</td>\n",
       "    </tr>\n",
       "    <tr>\n",
       "      <th>2</th>\n",
       "      <td>3</td>\n",
       "      <td>Young, Wild and Wonderful (1980)</td>\n",
       "      <td>1</td>\n",
       "      <td>As the bus empties the students for their fie...</td>\n",
       "    </tr>\n",
       "    <tr>\n",
       "      <th>3</th>\n",
       "      <td>4</td>\n",
       "      <td>The Secret Sin (1915)</td>\n",
       "      <td>8</td>\n",
       "      <td>To help their unemployed father make ends mee...</td>\n",
       "    </tr>\n",
       "    <tr>\n",
       "      <th>4</th>\n",
       "      <td>5</td>\n",
       "      <td>The Unrecovered (2007)</td>\n",
       "      <td>8</td>\n",
       "      <td>The film's title refers not only to the un-re...</td>\n",
       "    </tr>\n",
       "  </tbody>\n",
       "</table>\n",
       "</div>"
      ],
      "text/plain": [
       "   ID                               TITLE  GENRE  \\\n",
       "0   1       Oscar et la dame rose (2009)       8   \n",
       "1   2                       Cupid (1997)      24   \n",
       "2   3   Young, Wild and Wonderful (1980)       1   \n",
       "3   4              The Secret Sin (1915)       8   \n",
       "4   5             The Unrecovered (2007)       8   \n",
       "\n",
       "                                         DESCRIPTION  \n",
       "0   Listening in to a conversation between his do...  \n",
       "1   A brother and sister with a past incestuous r...  \n",
       "2   As the bus empties the students for their fie...  \n",
       "3   To help their unemployed father make ends mee...  \n",
       "4   The film's title refers not only to the un-re...  "
      ]
     },
     "execution_count": 4,
     "metadata": {},
     "output_type": "execute_result"
    }
   ],
   "source": [
    "train_data.head()"
   ]
  },
  {
   "cell_type": "code",
   "execution_count": 5,
   "id": "203d7b19",
   "metadata": {},
   "outputs": [
    {
     "data": {
      "text/html": [
       "<div>\n",
       "<style scoped>\n",
       "    .dataframe tbody tr th:only-of-type {\n",
       "        vertical-align: middle;\n",
       "    }\n",
       "\n",
       "    .dataframe tbody tr th {\n",
       "        vertical-align: top;\n",
       "    }\n",
       "\n",
       "    .dataframe thead th {\n",
       "        text-align: right;\n",
       "    }\n",
       "</style>\n",
       "<table border=\"1\" class=\"dataframe\">\n",
       "  <thead>\n",
       "    <tr style=\"text-align: right;\">\n",
       "      <th></th>\n",
       "      <th>ID</th>\n",
       "      <th>TITLE</th>\n",
       "      <th>DESCRIPTION</th>\n",
       "    </tr>\n",
       "  </thead>\n",
       "  <tbody>\n",
       "    <tr>\n",
       "      <th>0</th>\n",
       "      <td>1</td>\n",
       "      <td>Edgar's Lunch (1998)</td>\n",
       "      <td>L.R. Brane loves his life - his car, his apar...</td>\n",
       "    </tr>\n",
       "    <tr>\n",
       "      <th>1</th>\n",
       "      <td>2</td>\n",
       "      <td>La guerra de papá (1977)</td>\n",
       "      <td>Spain, March 1964: Quico is a very naughty ch...</td>\n",
       "    </tr>\n",
       "    <tr>\n",
       "      <th>2</th>\n",
       "      <td>3</td>\n",
       "      <td>Off the Beaten Track (2010)</td>\n",
       "      <td>One year in the life of Albin and his family ...</td>\n",
       "    </tr>\n",
       "    <tr>\n",
       "      <th>3</th>\n",
       "      <td>4</td>\n",
       "      <td>Meu Amigo Hindu (2015)</td>\n",
       "      <td>His father has died, he hasn't spoken with hi...</td>\n",
       "    </tr>\n",
       "    <tr>\n",
       "      <th>4</th>\n",
       "      <td>5</td>\n",
       "      <td>Er nu zhai (1955)</td>\n",
       "      <td>Before he was known internationally as a mart...</td>\n",
       "    </tr>\n",
       "  </tbody>\n",
       "</table>\n",
       "</div>"
      ],
      "text/plain": [
       "   ID                          TITLE  \\\n",
       "0   1          Edgar's Lunch (1998)    \n",
       "1   2      La guerra de papá (1977)    \n",
       "2   3   Off the Beaten Track (2010)    \n",
       "3   4        Meu Amigo Hindu (2015)    \n",
       "4   5             Er nu zhai (1955)    \n",
       "\n",
       "                                         DESCRIPTION  \n",
       "0   L.R. Brane loves his life - his car, his apar...  \n",
       "1   Spain, March 1964: Quico is a very naughty ch...  \n",
       "2   One year in the life of Albin and his family ...  \n",
       "3   His father has died, he hasn't spoken with hi...  \n",
       "4   Before he was known internationally as a mart...  "
      ]
     },
     "execution_count": 5,
     "metadata": {},
     "output_type": "execute_result"
    }
   ],
   "source": [
    "test_data.head()"
   ]
  },
  {
   "cell_type": "code",
   "execution_count": 6,
   "id": "ebd0d699",
   "metadata": {},
   "outputs": [],
   "source": [
    "from sklearn.feature_extraction.text import TfidfVectorizer\n",
    "\n",
    "# Initialize TF-IDF Vectorizer\n",
    "tfidf_vectorizer = TfidfVectorizer(stop_words='english', max_features=5000)\n",
    "\n",
    "# Fit and transform the train data\n",
    "X_train_tfidf = tfidf_vectorizer.fit_transform(train_data['DESCRIPTION'])\n",
    "y_train = train_data['GENRE']\n",
    "\n",
    "# Transform the test data\n",
    "X_test_tfidf = tfidf_vectorizer.transform(test_data['DESCRIPTION'])"
   ]
  },
  {
   "cell_type": "code",
   "execution_count": 7,
   "id": "87dc896a",
   "metadata": {},
   "outputs": [
    {
     "name": "stdout",
     "output_type": "stream",
     "text": [
      "Training Accuracy: 0.5529936916663593\n",
      "              precision    recall  f1-score   support\n",
      "\n",
      "           0       0.69      0.15      0.25      1315\n",
      "           1       0.75      0.10      0.18       590\n",
      "           2       0.76      0.09      0.16       775\n",
      "           3       1.00      0.01      0.02       498\n",
      "           4       0.00      0.00      0.00       265\n",
      "           5       0.56      0.49      0.52      7447\n",
      "           6       0.00      0.00      0.00       505\n",
      "           7       0.59      0.89      0.71     13096\n",
      "           8       0.48      0.83      0.61     13613\n",
      "           9       0.86      0.01      0.02       784\n",
      "          10       0.00      0.00      0.00       323\n",
      "          11       0.97      0.32      0.48       194\n",
      "          12       0.00      0.00      0.00       243\n",
      "          13       0.76      0.46      0.57      2204\n",
      "          14       0.87      0.24      0.38       731\n",
      "          15       0.00      0.00      0.00       277\n",
      "          16       0.00      0.00      0.00       319\n",
      "          17       0.00      0.00      0.00       181\n",
      "          18       0.78      0.05      0.09       884\n",
      "          19       0.00      0.00      0.00       672\n",
      "          20       0.80      0.11      0.19       647\n",
      "          21       0.65      0.15      0.24      5073\n",
      "          22       0.84      0.15      0.25       432\n",
      "          23       1.00      0.01      0.02       391\n",
      "          24       0.71      0.06      0.10      1591\n",
      "          25       0.00      0.00      0.00       132\n",
      "          26       0.97      0.68      0.80      1032\n",
      "\n",
      "    accuracy                           0.55     54214\n",
      "   macro avg       0.52      0.18      0.21     54214\n",
      "weighted avg       0.58      0.55      0.48     54214\n",
      "\n"
     ]
    },
    {
     "name": "stderr",
     "output_type": "stream",
     "text": [
      "C:\\Users\\ashis\\anaconda3\\lib\\site-packages\\sklearn\\metrics\\_classification.py:1469: UndefinedMetricWarning: Precision and F-score are ill-defined and being set to 0.0 in labels with no predicted samples. Use `zero_division` parameter to control this behavior.\n",
      "  _warn_prf(average, modifier, msg_start, len(result))\n",
      "C:\\Users\\ashis\\anaconda3\\lib\\site-packages\\sklearn\\metrics\\_classification.py:1469: UndefinedMetricWarning: Precision and F-score are ill-defined and being set to 0.0 in labels with no predicted samples. Use `zero_division` parameter to control this behavior.\n",
      "  _warn_prf(average, modifier, msg_start, len(result))\n",
      "C:\\Users\\ashis\\anaconda3\\lib\\site-packages\\sklearn\\metrics\\_classification.py:1469: UndefinedMetricWarning: Precision and F-score are ill-defined and being set to 0.0 in labels with no predicted samples. Use `zero_division` parameter to control this behavior.\n",
      "  _warn_prf(average, modifier, msg_start, len(result))\n"
     ]
    }
   ],
   "source": [
    "from sklearn.naive_bayes import MultinomialNB\n",
    "from sklearn.metrics import accuracy_score, classification_report\n",
    "\n",
    "# Initialize and train the model\n",
    "nb_model = MultinomialNB()\n",
    "nb_model.fit(X_train_tfidf, y_train)\n",
    "\n",
    "# Evaluate the model\n",
    "y_train_pred = nb_model.predict(X_train_tfidf)\n",
    "print('Training Accuracy:', accuracy_score(y_train, y_train_pred))\n",
    "print(classification_report(y_train, y_train_pred))"
   ]
  },
  {
   "cell_type": "code",
   "execution_count": 8,
   "id": "154297bd",
   "metadata": {},
   "outputs": [
    {
     "name": "stdout",
     "output_type": "stream",
     "text": [
      "Training Accuracy: 0.6694396281403328\n",
      "              precision    recall  f1-score   support\n",
      "\n",
      "           0       0.66      0.43      0.52      1315\n",
      "           1       0.82      0.41      0.54       590\n",
      "           2       0.78      0.26      0.39       775\n",
      "           3       0.84      0.22      0.35       498\n",
      "           4       0.00      0.00      0.00       265\n",
      "           5       0.63      0.70      0.66      7447\n",
      "           6       0.64      0.11      0.18       505\n",
      "           7       0.72      0.90      0.80     13096\n",
      "           8       0.62      0.84      0.71     13613\n",
      "           9       0.72      0.18      0.28       784\n",
      "          10       0.76      0.09      0.16       323\n",
      "          11       0.94      0.63      0.75       194\n",
      "          12       0.00      0.00      0.00       243\n",
      "          13       0.76      0.72      0.74      2204\n",
      "          14       0.76      0.56      0.64       731\n",
      "          15       0.88      0.08      0.14       277\n",
      "          16       0.79      0.06      0.11       319\n",
      "          17       0.85      0.09      0.17       181\n",
      "          18       0.73      0.32      0.45       884\n",
      "          19       0.67      0.07      0.12       672\n",
      "          20       0.74      0.42      0.54       647\n",
      "          21       0.61      0.45      0.52      5073\n",
      "          22       0.83      0.42      0.55       432\n",
      "          23       0.79      0.29      0.43       391\n",
      "          24       0.62      0.26      0.37      1591\n",
      "          25       1.00      0.07      0.13       132\n",
      "          26       0.94      0.82      0.88      1032\n",
      "\n",
      "    accuracy                           0.67     54214\n",
      "   macro avg       0.71      0.35      0.41     54214\n",
      "weighted avg       0.67      0.67      0.64     54214\n",
      "\n"
     ]
    },
    {
     "name": "stderr",
     "output_type": "stream",
     "text": [
      "C:\\Users\\ashis\\anaconda3\\lib\\site-packages\\sklearn\\metrics\\_classification.py:1469: UndefinedMetricWarning: Precision and F-score are ill-defined and being set to 0.0 in labels with no predicted samples. Use `zero_division` parameter to control this behavior.\n",
      "  _warn_prf(average, modifier, msg_start, len(result))\n",
      "C:\\Users\\ashis\\anaconda3\\lib\\site-packages\\sklearn\\metrics\\_classification.py:1469: UndefinedMetricWarning: Precision and F-score are ill-defined and being set to 0.0 in labels with no predicted samples. Use `zero_division` parameter to control this behavior.\n",
      "  _warn_prf(average, modifier, msg_start, len(result))\n",
      "C:\\Users\\ashis\\anaconda3\\lib\\site-packages\\sklearn\\metrics\\_classification.py:1469: UndefinedMetricWarning: Precision and F-score are ill-defined and being set to 0.0 in labels with no predicted samples. Use `zero_division` parameter to control this behavior.\n",
      "  _warn_prf(average, modifier, msg_start, len(result))\n"
     ]
    }
   ],
   "source": [
    "from sklearn.linear_model import LogisticRegression\n",
    "\n",
    "# Initialize and train the model\n",
    "lr_model = LogisticRegression(max_iter=1000)\n",
    "lr_model.fit(X_train_tfidf, y_train)\n",
    "\n",
    "# Evaluate the model\n",
    "y_train_pred = lr_model.predict(X_train_tfidf)\n",
    "print('Training Accuracy:', accuracy_score(y_train, y_train_pred))\n",
    "print(classification_report(y_train, y_train_pred))"
   ]
  },
  {
   "cell_type": "code",
   "execution_count": 9,
   "id": "09bbed68",
   "metadata": {},
   "outputs": [
    {
     "name": "stdout",
     "output_type": "stream",
     "text": [
      "Training Accuracy: 0.7255874866270705\n",
      "              precision    recall  f1-score   support\n",
      "\n",
      "           0       0.72      0.60      0.66      1315\n",
      "           1       0.85      0.67      0.75       590\n",
      "           2       0.84      0.44      0.57       775\n",
      "           3       0.86      0.42      0.57       498\n",
      "           4       0.00      0.00      0.00       265\n",
      "           5       0.67      0.74      0.70      7447\n",
      "           6       0.87      0.24      0.38       505\n",
      "           7       0.77      0.91      0.83     13096\n",
      "           8       0.66      0.86      0.74     13613\n",
      "           9       0.82      0.32      0.46       784\n",
      "          10       0.86      0.28      0.42       323\n",
      "          11       0.94      0.84      0.89       194\n",
      "          12       0.91      0.04      0.08       243\n",
      "          13       0.81      0.79      0.80      2204\n",
      "          14       0.83      0.75      0.79       731\n",
      "          15       0.93      0.25      0.39       277\n",
      "          16       0.93      0.19      0.32       319\n",
      "          17       0.96      0.27      0.42       181\n",
      "          18       0.82      0.52      0.63       884\n",
      "          19       1.00      0.04      0.07       672\n",
      "          20       0.80      0.61      0.69       647\n",
      "          21       0.71      0.48      0.57      5073\n",
      "          22       0.90      0.68      0.78       432\n",
      "          23       0.92      0.53      0.67       391\n",
      "          24       0.76      0.37      0.50      1591\n",
      "          25       0.96      0.36      0.53       132\n",
      "          26       0.97      0.91      0.94      1032\n",
      "\n",
      "    accuracy                           0.73     54214\n",
      "   macro avg       0.82      0.49      0.56     54214\n",
      "weighted avg       0.74      0.73      0.71     54214\n",
      "\n"
     ]
    },
    {
     "name": "stderr",
     "output_type": "stream",
     "text": [
      "C:\\Users\\ashis\\anaconda3\\lib\\site-packages\\sklearn\\metrics\\_classification.py:1469: UndefinedMetricWarning: Precision and F-score are ill-defined and being set to 0.0 in labels with no predicted samples. Use `zero_division` parameter to control this behavior.\n",
      "  _warn_prf(average, modifier, msg_start, len(result))\n",
      "C:\\Users\\ashis\\anaconda3\\lib\\site-packages\\sklearn\\metrics\\_classification.py:1469: UndefinedMetricWarning: Precision and F-score are ill-defined and being set to 0.0 in labels with no predicted samples. Use `zero_division` parameter to control this behavior.\n",
      "  _warn_prf(average, modifier, msg_start, len(result))\n",
      "C:\\Users\\ashis\\anaconda3\\lib\\site-packages\\sklearn\\metrics\\_classification.py:1469: UndefinedMetricWarning: Precision and F-score are ill-defined and being set to 0.0 in labels with no predicted samples. Use `zero_division` parameter to control this behavior.\n",
      "  _warn_prf(average, modifier, msg_start, len(result))\n"
     ]
    }
   ],
   "source": [
    "from sklearn.svm import SVC\n",
    "\n",
    "# Initialize and train the model\n",
    "svm_model = SVC(kernel='linear')\n",
    "svm_model.fit(X_train_tfidf, y_train)\n",
    "\n",
    "# Evaluate the model\n",
    "y_train_pred = svm_model.predict(X_train_tfidf)\n",
    "print('Training Accuracy:', accuracy_score(y_train, y_train_pred))\n",
    "print(classification_report(y_train, y_train_pred))"
   ]
  },
  {
   "cell_type": "code",
   "execution_count": 10,
   "id": "2f744c59",
   "metadata": {},
   "outputs": [],
   "source": [
    "# Predict genres for test data\n",
    "test_data['PREDICTED_GENRE'] = label_encoder.inverse_transform(svm_model.predict(X_test_tfidf))\n",
    "\n",
    "# Save the predictions\n",
    "test_data[['ID', 'TITLE', 'PREDICTED_GENRE']].to_csv('test_predictions.csv', index=False)"
   ]
  },
  {
   "cell_type": "code",
   "execution_count": null,
   "id": "6ae65de3",
   "metadata": {},
   "outputs": [],
   "source": []
  }
 ],
 "metadata": {
  "kernelspec": {
   "display_name": "Python 3 (ipykernel)",
   "language": "python",
   "name": "python3"
  },
  "language_info": {
   "codemirror_mode": {
    "name": "ipython",
    "version": 3
   },
   "file_extension": ".py",
   "mimetype": "text/x-python",
   "name": "python",
   "nbconvert_exporter": "python",
   "pygments_lexer": "ipython3",
   "version": "3.9.13"
  }
 },
 "nbformat": 4,
 "nbformat_minor": 5
}
